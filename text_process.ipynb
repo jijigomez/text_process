{
 "cells": [
  {
   "cell_type": "code",
   "execution_count": 1,
   "id": "71a493c2-2f33-40cf-ab38-789db3cc864d",
   "metadata": {},
   "outputs": [],
   "source": [
    "import re\n",
    "import string\n",
    "\n",
    "def wordopt(t):  \n",
    "    # Convert text to lowercase\n",
    "    t = t.lower()\n",
    "    \n",
    "    # Remove text within square brackets\n",
    "    t = re.sub(r'\\[.*?\\]', '', t)\n",
    "    \n",
    "    # Remove URLs\n",
    "    t = re.sub(r'https?://\\S+|www\\.\\S+', '', t)\n",
    "    \n",
    "    # Remove HTML tags\n",
    "    t = re.sub(r'<.*?>', '', t)\n",
    "    \n",
    "    # Remove non-alphanumeric characters (keeping spaces)\n",
    "    t = re.sub(r'\\W+', ' ', t)\n",
    "    \n",
    "    # Remove any remaining punctuation (if needed)\n",
    "    # Note: This might be redundant after the above step\n",
    "    # t = re.sub(f'[{re.escape(string.punctuation)}]', '', t)\n",
    "    \n",
    "    # Remove newline characters\n",
    "    t = re.sub(r'\\n', ' ', t)\n",
    "    \n",
    "    # Remove words containing digits\n",
    "    t = re.sub(r'\\b\\w*\\d\\w*\\b', '', t)\n",
    "    \n",
    "    # Remove extra spaces resulting from removal of punctuation, digits, etc.\n",
    "    t = re.sub(r'\\s+', ' ', t).strip()\n",
    "    \n",
    "    return t\n"
   ]
  },
  {
   "cell_type": "code",
   "execution_count": null,
   "id": "c348554b-8e95-4abe-b3d2-3b9abb29fa35",
   "metadata": {},
   "outputs": [],
   "source": []
  }
 ],
 "metadata": {
  "kernelspec": {
   "display_name": "Python 3 (ipykernel)",
   "language": "python",
   "name": "python3"
  },
  "language_info": {
   "codemirror_mode": {
    "name": "ipython",
    "version": 3
   },
   "file_extension": ".py",
   "mimetype": "text/x-python",
   "name": "python",
   "nbconvert_exporter": "python",
   "pygments_lexer": "ipython3",
   "version": "3.12.3"
  }
 },
 "nbformat": 4,
 "nbformat_minor": 5
}
